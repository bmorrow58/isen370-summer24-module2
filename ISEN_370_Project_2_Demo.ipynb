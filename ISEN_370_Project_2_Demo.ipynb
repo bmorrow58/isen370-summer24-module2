{
  "nbformat": 4,
  "nbformat_minor": 0,
  "metadata": {
    "colab": {
      "name": " ISEN 370  Project 2 Demo.ipynb",
      "provenance": [],
      "authorship_tag": "ABX9TyPnPg2MvjNlu04ZJeD8aIgU",
      "include_colab_link": true
    },
    "kernelspec": {
      "name": "python3",
      "display_name": "Python 3"
    },
    "language_info": {
      "name": "python"
    }
  },
  "cells": [
    {
      "cell_type": "markdown",
      "metadata": {
        "id": "view-in-github",
        "colab_type": "text"
      },
      "source": [
        "<a href=\"https://colab.research.google.com/github/StevenXJiang/DataScienceModule2/blob/main/ISEN_370_Project_2_Demo.ipynb\" target=\"_parent\"><img src=\"https://colab.research.google.com/assets/colab-badge.svg\" alt=\"Open In Colab\"/></a>"
      ]
    },
    {
      "cell_type": "markdown",
      "metadata": {
        "id": "ORIRg6IK6lqT"
      },
      "source": [
        "# ISEN 370 Project 2 Demonstration \n",
        "In this demo, you will be shown how to use data science tools to conduct a hypothesis testing for a given dataset. <br>\n",
        "The next section provides some tips that can be used in this Markdown document.\n"
      ]
    },
    {
      "cell_type": "markdown",
      "metadata": {
        "id": "8HQYFPL5_mYH"
      },
      "source": [
        "# Markdown can work with Latex to type math symbols and formulas.\n",
        "* You can put formulas centered in their own lines using double \\$\\$ characters. <br>\n",
        "* Greek letter MU is represented by \\mu <br>\n",
        "* subscription is done using \"_\" <br>\n",
        "* not equal to is represented by \\neq <br>\n",
        "* Use \\<br> for a new line"
      ]
    },
    {
      "cell_type": "markdown",
      "metadata": {
        "id": "JyV5HGI4oSn7"
      },
      "source": [
        "# Import Libraries\n",
        "We will need to import necessary libraries for the project. \n",
        "*  Numpy is The fundamental package for scientific computing with Python. \n",
        "*  Pandas is a data analysis and manipulation tool.  \n",
        "*  Matplotlib is Matplotlib is a comprehensive library for creating static, animated, and interactive visualizations in Python.\n",
        "*  SciPy provides algorithms for optimization, integration, interpolation, eigenvalue problems, algebraic equations, differential equations, statistics and many other classes of problems.\n",
        "\n",
        "\n",
        "\n",
        "\n",
        "\n",
        " \n"
      ]
    },
    {
      "cell_type": "code",
      "metadata": {
        "id": "4y1CM1g7kkbB"
      },
      "source": [
        "import numpy as np\n",
        "import pandas as pd\n",
        "import matplotlib.pyplot as plt\n",
        "import scipy.stats as stats"
      ],
      "execution_count": null,
      "outputs": []
    },
    {
      "cell_type": "markdown",
      "metadata": {
        "id": "3qsXYkC_6_r-"
      },
      "source": [
        "## Data Import\n",
        "\n",
        "The Learning Enhanced Watershed Assessment System (LEWAS) is a unique real-time water and weather monitoring system. The LEWAS monitoring site is installed at the outfall of the Webb Branch watershed on Virginia Tech’s campus. Webb Branch is an urban stream with a 2.78 square kilometer (about one square mile) watershed consisting of residential and commercial properties. The stream is routed through man-made channels and culverts until it discharges at the LEWAS monitoring site.<br>\n",
        "More information about LEWAS Project can be found at:\n",
        "http://www.lewas.ictas.vt.edu/\n",
        "In this example, we will use a small subset of LEWAS data. <br>\n",
        "We first import the LEWAS datasets and print the first 10 rows of data. The data is stored in CSV files on github site and the path is given in the cell below.\n",
        "There are two CSV files, the first contains data from 9/28/16-9/30/16 and the second contains the same period a year later.\n",
        "\n",
        "read.csv() is a function in pandas that allows us read csv file.\n",
        "df.head() is a funciton that can be applied to a dataframe to display the first n number of records. So df1.head(10) will display first 10 records for dataframe df1.\n",
        "More informartion about pandas.read.csv() can be seen at:\n",
        "https://pandas.pydata.org/docs/reference/api/pandas.read_csv.html\n"
      ]
    },
    {
      "cell_type": "code",
      "metadata": {
        "id": "-9ca6m4CjWwW"
      },
      "source": [
        "data_url1='https://github.com/StevenXJiang/DataScienceModule2/raw/main/LEWAS_Storm_Data_Demo_1.csv'\n",
        "data_url2='https://github.com/StevenXJiang/DataScienceModule2/raw/main/LEWAS_Storm_Data_Demo_2.csv'\n"
      ],
      "execution_count": null,
      "outputs": []
    },
    {
      "cell_type": "code",
      "metadata": {
        "id": "CBchd78jjraI",
        "colab": {
          "base_uri": "https://localhost:8080/",
          "height": 363
        },
        "outputId": "eaa5868a-d2ab-49c2-d8f5-68dd2e766dea"
      },
      "source": [
        "df1=pd.read_csv(data_url1)\n",
        "df1.head(10)"
      ],
      "execution_count": null,
      "outputs": [
        {
          "output_type": "execute_result",
          "data": {
            "text/html": [
              "<div>\n",
              "<style scoped>\n",
              "    .dataframe tbody tr th:only-of-type {\n",
              "        vertical-align: middle;\n",
              "    }\n",
              "\n",
              "    .dataframe tbody tr th {\n",
              "        vertical-align: top;\n",
              "    }\n",
              "\n",
              "    .dataframe thead th {\n",
              "        text-align: right;\n",
              "    }\n",
              "</style>\n",
              "<table border=\"1\" class=\"dataframe\">\n",
              "  <thead>\n",
              "    <tr style=\"text-align: right;\">\n",
              "      <th></th>\n",
              "      <th>Date and Time</th>\n",
              "      <th>Water Temperature (F)</th>\n",
              "      <th>Estimated Flow Rate (m3/s)</th>\n",
              "    </tr>\n",
              "  </thead>\n",
              "  <tbody>\n",
              "    <tr>\n",
              "      <th>0</th>\n",
              "      <td>9/28/16 1:00 PM</td>\n",
              "      <td>64.562</td>\n",
              "      <td>0.073</td>\n",
              "    </tr>\n",
              "    <tr>\n",
              "      <th>1</th>\n",
              "      <td>9/28/16 1:01 PM</td>\n",
              "      <td>64.544</td>\n",
              "      <td>0.072</td>\n",
              "    </tr>\n",
              "    <tr>\n",
              "      <th>2</th>\n",
              "      <td>9/28/16 1:02 PM</td>\n",
              "      <td>64.544</td>\n",
              "      <td>0.073</td>\n",
              "    </tr>\n",
              "    <tr>\n",
              "      <th>3</th>\n",
              "      <td>9/28/16 1:03 PM</td>\n",
              "      <td>64.562</td>\n",
              "      <td>0.073</td>\n",
              "    </tr>\n",
              "    <tr>\n",
              "      <th>4</th>\n",
              "      <td>9/28/16 1:04 PM</td>\n",
              "      <td>64.544</td>\n",
              "      <td>0.070</td>\n",
              "    </tr>\n",
              "    <tr>\n",
              "      <th>5</th>\n",
              "      <td>9/28/16 1:05 PM</td>\n",
              "      <td>64.544</td>\n",
              "      <td>0.072</td>\n",
              "    </tr>\n",
              "    <tr>\n",
              "      <th>6</th>\n",
              "      <td>9/28/16 1:06 PM</td>\n",
              "      <td>64.544</td>\n",
              "      <td>0.068</td>\n",
              "    </tr>\n",
              "    <tr>\n",
              "      <th>7</th>\n",
              "      <td>9/28/16 1:07 PM</td>\n",
              "      <td>64.544</td>\n",
              "      <td>0.071</td>\n",
              "    </tr>\n",
              "    <tr>\n",
              "      <th>8</th>\n",
              "      <td>9/28/16 1:08 PM</td>\n",
              "      <td>64.580</td>\n",
              "      <td>0.070</td>\n",
              "    </tr>\n",
              "    <tr>\n",
              "      <th>9</th>\n",
              "      <td>9/28/16 1:09 PM</td>\n",
              "      <td>64.562</td>\n",
              "      <td>0.070</td>\n",
              "    </tr>\n",
              "  </tbody>\n",
              "</table>\n",
              "</div>"
            ],
            "text/plain": [
              "     Date and Time  Water Temperature (F)  Estimated Flow Rate (m3/s)\n",
              "0  9/28/16 1:00 PM                 64.562                       0.073\n",
              "1  9/28/16 1:01 PM                 64.544                       0.072\n",
              "2  9/28/16 1:02 PM                 64.544                       0.073\n",
              "3  9/28/16 1:03 PM                 64.562                       0.073\n",
              "4  9/28/16 1:04 PM                 64.544                       0.070\n",
              "5  9/28/16 1:05 PM                 64.544                       0.072\n",
              "6  9/28/16 1:06 PM                 64.544                       0.068\n",
              "7  9/28/16 1:07 PM                 64.544                       0.071\n",
              "8  9/28/16 1:08 PM                 64.580                       0.070\n",
              "9  9/28/16 1:09 PM                 64.562                       0.070"
            ]
          },
          "metadata": {},
          "execution_count": 5
        }
      ]
    },
    {
      "cell_type": "code",
      "metadata": {
        "id": "MtyIn5IcreUc",
        "colab": {
          "base_uri": "https://localhost:8080/",
          "height": 363
        },
        "outputId": "677c66ed-15cf-4470-e016-fa29b9a70cd5"
      },
      "source": [
        "df2=pd.read_csv(data_url2)\n",
        "df2.head(10)"
      ],
      "execution_count": null,
      "outputs": [
        {
          "output_type": "execute_result",
          "data": {
            "text/html": [
              "<div>\n",
              "<style scoped>\n",
              "    .dataframe tbody tr th:only-of-type {\n",
              "        vertical-align: middle;\n",
              "    }\n",
              "\n",
              "    .dataframe tbody tr th {\n",
              "        vertical-align: top;\n",
              "    }\n",
              "\n",
              "    .dataframe thead th {\n",
              "        text-align: right;\n",
              "    }\n",
              "</style>\n",
              "<table border=\"1\" class=\"dataframe\">\n",
              "  <thead>\n",
              "    <tr style=\"text-align: right;\">\n",
              "      <th></th>\n",
              "      <th>Date and Time</th>\n",
              "      <th>Water Temperature (F)</th>\n",
              "      <th>Est. Flow Rate[m^3/s]</th>\n",
              "    </tr>\n",
              "  </thead>\n",
              "  <tbody>\n",
              "    <tr>\n",
              "      <th>0</th>\n",
              "      <td>9/28/17 12:00 AM</td>\n",
              "      <td>66.560</td>\n",
              "      <td>0.001469</td>\n",
              "    </tr>\n",
              "    <tr>\n",
              "      <th>1</th>\n",
              "      <td>9/28/17 12:03 AM</td>\n",
              "      <td>66.560</td>\n",
              "      <td>0.001471</td>\n",
              "    </tr>\n",
              "    <tr>\n",
              "      <th>2</th>\n",
              "      <td>9/28/17 12:06 AM</td>\n",
              "      <td>66.542</td>\n",
              "      <td>0.006522</td>\n",
              "    </tr>\n",
              "    <tr>\n",
              "      <th>3</th>\n",
              "      <td>9/28/17 12:09 AM</td>\n",
              "      <td>66.560</td>\n",
              "      <td>0.004293</td>\n",
              "    </tr>\n",
              "    <tr>\n",
              "      <th>4</th>\n",
              "      <td>9/28/17 12:12 AM</td>\n",
              "      <td>66.542</td>\n",
              "      <td>0.002252</td>\n",
              "    </tr>\n",
              "    <tr>\n",
              "      <th>5</th>\n",
              "      <td>9/28/17 12:15 AM</td>\n",
              "      <td>66.560</td>\n",
              "      <td>0.009034</td>\n",
              "    </tr>\n",
              "    <tr>\n",
              "      <th>6</th>\n",
              "      <td>9/28/17 12:18 AM</td>\n",
              "      <td>66.542</td>\n",
              "      <td>0.005067</td>\n",
              "    </tr>\n",
              "    <tr>\n",
              "      <th>7</th>\n",
              "      <td>9/28/17 12:21 AM</td>\n",
              "      <td>66.578</td>\n",
              "      <td>-0.001823</td>\n",
              "    </tr>\n",
              "    <tr>\n",
              "      <th>8</th>\n",
              "      <td>9/28/17 12:24 AM</td>\n",
              "      <td>66.542</td>\n",
              "      <td>-0.007261</td>\n",
              "    </tr>\n",
              "    <tr>\n",
              "      <th>9</th>\n",
              "      <td>9/28/17 12:27 AM</td>\n",
              "      <td>66.524</td>\n",
              "      <td>-0.011683</td>\n",
              "    </tr>\n",
              "  </tbody>\n",
              "</table>\n",
              "</div>"
            ],
            "text/plain": [
              "      Date and Time  Water Temperature (F)  Est. Flow Rate[m^3/s]\n",
              "0  9/28/17 12:00 AM                 66.560               0.001469\n",
              "1  9/28/17 12:03 AM                 66.560               0.001471\n",
              "2  9/28/17 12:06 AM                 66.542               0.006522\n",
              "3  9/28/17 12:09 AM                 66.560               0.004293\n",
              "4  9/28/17 12:12 AM                 66.542               0.002252\n",
              "5  9/28/17 12:15 AM                 66.560               0.009034\n",
              "6  9/28/17 12:18 AM                 66.542               0.005067\n",
              "7  9/28/17 12:21 AM                 66.578              -0.001823\n",
              "8  9/28/17 12:24 AM                 66.542              -0.007261\n",
              "9  9/28/17 12:27 AM                 66.524              -0.011683"
            ]
          },
          "metadata": {},
          "execution_count": 7
        }
      ]
    },
    {
      "cell_type": "markdown",
      "metadata": {
        "id": "PM69GHhR67pA"
      },
      "source": [
        "## Exploring Data"
      ]
    },
    {
      "cell_type": "markdown",
      "metadata": {
        "id": "10krY0x-k8Nq"
      },
      "source": [
        "We can use a scatter plot to explore the data.<br>\n",
        "The data includes two features: Water Temperature and Est. Flow Rate[m^3/s]. In this exercise, we will focus on water temperature.<br>\n",
        "Generate two scatter plots: one for the data of water temperature in 2016 and the other for the data of water temperature in 2017.\n",
        "\n",
        "matplotlib.pyplot provides MATLAB-like of plots. It has many functions. Function <b>figure([num, figsize, ...])</b> can be used to create a new figure, or activate an existing figure. num can be a unique identifier for the figure. If no num is provided, a new figure will be generated. figsize=(flot, float) provides the Width, height of the figure in inches. The default values are (6.4, 4.8).\n",
        "\n",
        "scatter(x, y[, s,  ...]) can be used to generate a scatter plot of y vs x.  s Speficies the marker size in points and is optional. The default value for s is 2.\n",
        "\n",
        "xlabel(xlabel) can be used to set the label for the x-axis.\n",
        "ylable(ylabel) can  be used to set the label for the y axis.\n",
        "\n",
        "show() is used to display the open figure.\n",
        "More information about maptplotlib.pyplot.figure() can be seen at\n",
        "https://matplotlib.org/stable/api/_as_gen/matplotlib.pyplot.figure.html\n",
        "\n",
        "More information about matplotlib.pyplot.scatter() can be seen at \n",
        "https://matplotlib.org/stable/api/_as_gen/matplotlib.pyplot.scatter.html\n",
        "\n",
        "To construct a scatter plot for temperature in 2016, we can use matplotlib.pyplot.figure() function and matplotlib.pyplot.scatter() fucntion. <br>\n",
        "Use matplotlib.pyplot.title() and matplotlib.pyplot.xlabel(), matplotlib.pyplot.ylabel() to set the title and labels for the plot."
      ]
    },
    {
      "cell_type": "code",
      "metadata": {
        "colab": {
          "base_uri": "https://localhost:8080/",
          "height": 730
        },
        "id": "VsYwr8waJlq0",
        "outputId": "335064d4-283b-4963-e806-c9b8becce552"
      },
      "source": [
        "plt.figure(figsize=(20,12))\n",
        "plt.scatter(df1[\"Date and Time\"], df1[\"Water Temperature (F)\"], s=1)\n",
        "plt.title(\"Water Temprature 9/28/16-9/30/16\")\n",
        "plt.xlabel(\"Date\")\n",
        "plt.ylabel('Water Temprature ( \\N{DEGREE SIGN}F)')\n",
        "plt.show()"
      ],
      "execution_count": null,
      "outputs": [
        {
          "output_type": "display_data",
          "data": {
            "image/png": "[encoded data removed]",
            "text/plain": [
              "<Figure size 1440x864 with 1 Axes>"
            ]
          },
          "metadata": {
            "needs_background": "light"
          }
        }
      ]
    },
    {
      "cell_type": "code",
      "metadata": {
        "id": "jfmB3fz6MM0V"
      },
      "source": [],
      "execution_count": null,
      "outputs": []
    },
    {
      "cell_type": "markdown",
      "source": [
        "We could also generate a subset of data that is from a particular date, say 9/28/16.<br>\n",
        "Generate a new dataframe named df12 that contains data from 9/28/16 and display the top ten observations.\n",
        "\n",
        "\n"
      ],
      "metadata": {
        "id": "MqJ1Ht4i6bcf"
      }
    },
    {
      "cell_type": "code",
      "metadata": {
        "colab": {
          "base_uri": "https://localhost:8080/",
          "height": 359
        },
        "id": "qYVTLn6QLeRE",
        "outputId": "9eb215a7-2cd1-4338-be24-50ec230c2234"
      },
      "source": [
        "df12=df1[df1['Date and Time'].astype(str).str[:7]=='9/28/16']\n",
        "df12.head(10)"
      ],
      "execution_count": null,
      "outputs": [
        {
          "output_type": "execute_result",
          "data": {
            "text/html": [
              "<div>\n",
              "<style scoped>\n",
              "    .dataframe tbody tr th:only-of-type {\n",
              "        vertical-align: middle;\n",
              "    }\n",
              "\n",
              "    .dataframe tbody tr th {\n",
              "        vertical-align: top;\n",
              "    }\n",
              "\n",
              "    .dataframe thead th {\n",
              "        text-align: right;\n",
              "    }\n",
              "</style>\n",
              "<table border=\"1\" class=\"dataframe\">\n",
              "  <thead>\n",
              "    <tr style=\"text-align: right;\">\n",
              "      <th></th>\n",
              "      <th>Date and Time</th>\n",
              "      <th>Water Temperature (F)</th>\n",
              "      <th>Estimated Flow Rate (m3/s)</th>\n",
              "      <th>Date</th>\n",
              "    </tr>\n",
              "  </thead>\n",
              "  <tbody>\n",
              "    <tr>\n",
              "      <th>0</th>\n",
              "      <td>9/28/16 1:00 PM</td>\n",
              "      <td>64.562</td>\n",
              "      <td>0.073</td>\n",
              "      <td>9/28/16</td>\n",
              "    </tr>\n",
              "    <tr>\n",
              "      <th>1</th>\n",
              "      <td>9/28/16 1:01 PM</td>\n",
              "      <td>64.544</td>\n",
              "      <td>0.072</td>\n",
              "      <td>9/28/16</td>\n",
              "    </tr>\n",
              "    <tr>\n",
              "      <th>2</th>\n",
              "      <td>9/28/16 1:02 PM</td>\n",
              "      <td>64.544</td>\n",
              "      <td>0.073</td>\n",
              "      <td>9/28/16</td>\n",
              "    </tr>\n",
              "    <tr>\n",
              "      <th>3</th>\n",
              "      <td>9/28/16 1:03 PM</td>\n",
              "      <td>64.562</td>\n",
              "      <td>0.073</td>\n",
              "      <td>9/28/16</td>\n",
              "    </tr>\n",
              "    <tr>\n",
              "      <th>4</th>\n",
              "      <td>9/28/16 1:04 PM</td>\n",
              "      <td>64.544</td>\n",
              "      <td>0.070</td>\n",
              "      <td>9/28/16</td>\n",
              "    </tr>\n",
              "    <tr>\n",
              "      <th>5</th>\n",
              "      <td>9/28/16 1:05 PM</td>\n",
              "      <td>64.544</td>\n",
              "      <td>0.072</td>\n",
              "      <td>9/28/16</td>\n",
              "    </tr>\n",
              "    <tr>\n",
              "      <th>6</th>\n",
              "      <td>9/28/16 1:06 PM</td>\n",
              "      <td>64.544</td>\n",
              "      <td>0.068</td>\n",
              "      <td>9/28/16</td>\n",
              "    </tr>\n",
              "    <tr>\n",
              "      <th>7</th>\n",
              "      <td>9/28/16 1:07 PM</td>\n",
              "      <td>64.544</td>\n",
              "      <td>0.071</td>\n",
              "      <td>9/28/16</td>\n",
              "    </tr>\n",
              "    <tr>\n",
              "      <th>8</th>\n",
              "      <td>9/28/16 1:08 PM</td>\n",
              "      <td>64.580</td>\n",
              "      <td>0.070</td>\n",
              "      <td>9/28/16</td>\n",
              "    </tr>\n",
              "    <tr>\n",
              "      <th>9</th>\n",
              "      <td>9/28/16 1:09 PM</td>\n",
              "      <td>64.562</td>\n",
              "      <td>0.070</td>\n",
              "      <td>9/28/16</td>\n",
              "    </tr>\n",
              "  </tbody>\n",
              "</table>\n",
              "</div>"
            ],
            "text/plain": [
              "     Date and Time  Water Temperature (F)  Estimated Flow Rate (m3/s)     Date\n",
              "0  9/28/16 1:00 PM                 64.562                       0.073  9/28/16\n",
              "1  9/28/16 1:01 PM                 64.544                       0.072  9/28/16\n",
              "2  9/28/16 1:02 PM                 64.544                       0.073  9/28/16\n",
              "3  9/28/16 1:03 PM                 64.562                       0.073  9/28/16\n",
              "4  9/28/16 1:04 PM                 64.544                       0.070  9/28/16\n",
              "5  9/28/16 1:05 PM                 64.544                       0.072  9/28/16\n",
              "6  9/28/16 1:06 PM                 64.544                       0.068  9/28/16\n",
              "7  9/28/16 1:07 PM                 64.544                       0.071  9/28/16\n",
              "8  9/28/16 1:08 PM                 64.580                       0.070  9/28/16\n",
              "9  9/28/16 1:09 PM                 64.562                       0.070  9/28/16"
            ]
          },
          "metadata": {},
          "execution_count": 29
        }
      ]
    },
    {
      "cell_type": "markdown",
      "source": [
        "Generate a scatter plot based on dataframe d2 that contains data from year 2017."
      ],
      "metadata": {
        "id": "PtoVPRCe7A8N"
      }
    },
    {
      "cell_type": "code",
      "metadata": {
        "colab": {
          "base_uri": "https://localhost:8080/",
          "height": 727
        },
        "id": "uSKK5tyrORSg",
        "outputId": "de35ef38-f4c2-4666-a9fe-19491b4d0505"
      },
      "source": [
        "plt.figure(figsize=(20,12))\n",
        "plt.scatter(df2[\"Date and Time\"], df2[\"Water Temperature (F)\"], s=6)\n",
        "plt.title(\"Water Temprature 9/28/17-9/30/17\")\n",
        "plt.xlabel(\"Date\")\n",
        "plt.ylabel('Water Temprature ( \\N{DEGREE SIGN}F)')\n",
        "plt.show()"
      ],
      "execution_count": null,
      "outputs": [
        {
          "output_type": "display_data",
          "data": {
            "image/png": "[encoded data removed]",
            "text/plain": [
              "<Figure size 1440x864 with 1 Axes>"
            ]
          },
          "metadata": {
            "tags": [],
            "needs_background": "light"
          }
        }
      ]
    },
    {
      "cell_type": "markdown",
      "metadata": {
        "id": "jWG3m6GNPFgN"
      },
      "source": [
        "#Histogram\n",
        "Histograms can be used to examine the ditribution of the data.\n",
        "<br>\n",
        "plt.hist(x) fuction can be used to generate the histogram for a selected variable.<br>\n",
        "matplotlib.pyplot.hist(x, bins=None, range=None, density=False, weights=None, cumulative=False, bottom=None, histtype='bar', align='mid', orientation='vertical', rwidth=None, log=False, color=None, label=None, stacked=False, *, data=None, **kwargs)<br>\n",
        "This method uses numpy.histogram to bin the data in x and count the number of values in each bin, then draws the distribution either as a BarContainer or Polygon. The bins, range, density, and weights parameters are forwarded to numpy.histogram.<br>\n",
        "More information about plt.hist() can be seen at:\n",
        "https://matplotlib.org/stable/api/_as_gen/matplotlib.pyplot.hist.html\n"
      ]
    },
    {
      "cell_type": "code",
      "metadata": {
        "colab": {
          "base_uri": "https://localhost:8080/",
          "height": 265
        },
        "id": "k-eiMbTWOvts",
        "outputId": "e84ea277-5672-46d4-ae72-f24b478af087"
      },
      "source": [
        "plt.hist(df1[\"Water Temperature (F)\"])\n",
        "plt.show()"
      ],
      "execution_count": null,
      "outputs": [
        {
          "output_type": "display_data",
          "data": {
            "image/png": "[encoded data removed]",
            "text/plain": [
              "<Figure size 432x288 with 1 Axes>"
            ]
          },
          "metadata": {
            "needs_background": "light"
          }
        }
      ]
    },
    {
      "cell_type": "code",
      "metadata": {
        "colab": {
          "base_uri": "https://localhost:8080/",
          "height": 265
        },
        "id": "Bgt0kOGePIPU",
        "outputId": "c5fe16a6-67f7-4f9c-81b7-e58a0179ccc5"
      },
      "source": [
        "plt.hist(df2[\"Water Temperature (F)\"])\n",
        "plt.show()"
      ],
      "execution_count": null,
      "outputs": [
        {
          "output_type": "display_data",
          "data": {
            "image/png": "[encoded data removed]",
            "text/plain": [
              "<Figure size 432x288 with 1 Axes>"
            ]
          },
          "metadata": {
            "tags": [],
            "needs_background": "light"
          }
        }
      ]
    },
    {
      "cell_type": "markdown",
      "metadata": {
        "id": "n2cWw2t1VpNX"
      },
      "source": [
        "#Box plots\n",
        "Box plots can be used to check if there are outliers in the data set and can also be used to check for normality.\n",
        "\n",
        "DataFrame.boxplot(column=, grid=True, ...) can be used to generate boxplots for selected columns. use column= to specify the columns you would like to use to create boxplots and use grid=Fasle to not display grids (by default it is True). <br>\n",
        "More information about dataframe.boxplot() can be seen at:\n",
        "https://pandas.pydata.org/docs/reference/api/pandas.DataFrame.boxplot.html\n",
        "\n",
        "\n"
      ]
    },
    {
      "cell_type": "markdown",
      "metadata": {
        "id": "ZiHCn5QTA5_d"
      },
      "source": [
        "Generate Boxplot for water temperature in year 2016."
      ]
    },
    {
      "cell_type": "code",
      "metadata": {
        "colab": {
          "base_uri": "https://localhost:8080/",
          "height": 266
        },
        "id": "WluoZiUAVsik",
        "outputId": "856fea23-ff4e-4945-f7d4-6090809e4514"
      },
      "source": [
        "boxplot1 = df1.boxplot(column=[\"Water Temperature (F)\"], grid=False)"
      ],
      "execution_count": null,
      "outputs": [
        {
          "output_type": "display_data",
          "data": {
            "image/png": "[encoded data removed]",
            "text/plain": [
              "<Figure size 432x288 with 1 Axes>"
            ]
          },
          "metadata": {
            "tags": [],
            "needs_background": "light"
          }
        }
      ]
    },
    {
      "cell_type": "markdown",
      "metadata": {
        "id": "Mas7u1ZdBE5P"
      },
      "source": [
        "Generate the boxplot for the water temperature in year 2017."
      ]
    },
    {
      "cell_type": "code",
      "metadata": {
        "colab": {
          "base_uri": "https://localhost:8080/",
          "height": 265
        },
        "id": "BAQOxTitXCCv",
        "outputId": "a1084124-63f8-4ddf-f893-63adc364136e"
      },
      "source": [
        "boxplot2 = df2.boxplot(column=[\"Water Temperature (F)\"], grid=False)"
      ],
      "execution_count": null,
      "outputs": [
        {
          "output_type": "display_data",
          "data": {
            "image/png": "[encoded data removed]",
            "text/plain": [
              "<Figure size 432x288 with 1 Axes>"
            ]
          },
          "metadata": {
            "tags": [],
            "needs_background": "light"
          }
        }
      ]
    },
    {
      "cell_type": "markdown",
      "metadata": {
        "id": "qIHvLHBJTsfc"
      },
      "source": [
        "##Confidence Interval\n",
        "The (1-α)% confidence interval provides a range of values that you can be (1-α)% confident contains/captures the true mean of the population. Due to natural sampling variability, the sample mean (center of the CI) will vary from sample to sample.\n",
        "\n",
        "Practically, it usually is near impossible to study the entire population. Researchers can only work on samples of the population and estimate parameters of the popultion using sample statistics.Therefore, a confidence interval is simply a way to measure how well the sample represents the population. \n",
        "\n",
        "It is important to point out that the confidence is in the **method**, not in a particular interval. If we repeat the sampling method many times, approximately 95% of the intervals constructed would **capture** the true population mean.\n",
        "\n",
        "Therefore, as the sample size increases, the range of interval values will be narrower, meaning that the estimationbeing more accurate compared with a smaller sample.\n",
        "<br>\n",
        "<br>\n",
        "In this project, we can construct confidence interval based on the sample data collected.\n",
        "<br>\n",
        "From the histogram and bloxplot, we have already estabished that the data is not normally distributed. However, give the large sample size, using the central limit theorem, we know the sampling distribution of the mean will follow a normal distribution. The following code will generate the 95% confidence interval for the mean water temperatue for year 2016. The code will generate the upper level and lower level of the confidence interval based on the sample.\n",
        "\n",
        "stats.norm.interval(alpha=,loc=scale=) function is used to genetate the confidence interval. alpha provides the significance level, 1-alpha is the confidence, loc is the mean and scale is the standard deviation of the sample mean.\n",
        "\n",
        "numpy.mean() function provides the sample mean and stats.sem() computes the sandard error of the mean."
      ]
    },
    {
      "cell_type": "code",
      "metadata": {
        "colab": {
          "base_uri": "https://localhost:8080/"
        },
        "id": "BBgUnFf6T2bq",
        "outputId": "8ffd8129-bb69-4a01-e81b-81b57d8ad3c8"
      },
      "source": [
        "stats.norm.interval(alpha=0.95, loc=np.mean(df1[\"Water Temperature (F)\"]), scale=stats.sem(df1[\"Water Temperature (F)\"])) "
      ],
      "execution_count": null,
      "outputs": [
        {
          "output_type": "execute_result",
          "data": {
            "text/plain": [
              "(64.75327735471141, 64.81684987175272)"
            ]
          },
          "metadata": {},
          "execution_count": 61
        }
      ]
    },
    {
      "cell_type": "markdown",
      "metadata": {
        "id": "UF0rbyLBVsvd"
      },
      "source": [
        "There is 95% chance that the interval (64.75327735471141, 64.81684987175272) will capture the true mean water temperature for year 2016."
      ]
    },
    {
      "cell_type": "markdown",
      "metadata": {
        "id": "RklW1Ll47aoQ"
      },
      "source": [
        "## Hypothesis testing\n",
        "\n",
        "The main purpose of statistics is to test a hypothesis. A hypothesis is an educated guess about the parameter of a population.\n",
        "<br>\n",
        "Hypothesis testing is used to assess the plausibility of a hypothesis by using sample data.  It is a way to test the results of an experiment to see if it is meaningful by figuring out the odds that the results have happened by chance. If the results may have happened by chance, the experiment won’t be repeatable and will have little use.\n",
        "<br>\n",
        "A hypothesis is a statement about the value of an unknown population parameter.  \n",
        "A hypothesis test consists of a test between two competing hypotheses: (1) a null hypothesis: H0 versus (2) an alternative hypothesis: Ha (also known as H1).\n",
        "\n",
        "In general, the null hypothesis is a claim that there is “no effect” or “no difference of interest.” In many cases, the null hypothesis represents the status quo or a situation that nothing interesting is happening. On the other hand, the alternative hypothesis is the claim the experimenter or researcher wants to establish or find evidence to support. It is viewed as a “challenger” hypothesis to the null hypothesis.\n",
        "\n",
        "A test statistic is used in a hypothesis test by taking the sample data from an experiment and compares the results to the results you would expect from the null hypothesis.\n",
        "\n",
        "The P-value is the probability of observing a test statistic as extreme as the results actually observed, assuming the null hypothesis is true. \n",
        "\n",
        "In hypothesis testing, there is a significance level of the test and it is denoted by the Greek letter  α. This value acts as a cutoff on the p-value, where if the  p-value is less than α, we would “reject the null hypothesis H0.” Alternatively, if the p-value is greater than or equal to α, we would “fail to reject H0.” Note the latter statement is not quite the same as saying we “accept H0.” \n",
        "\n",
        "**6-Step Hypothesis Testing**\n",
        "1. H0:  <br>\n",
        "   Ha:  <br>\n",
        "2. $\\alpha$= <br>\n",
        "3. Test Statistic <br>\n",
        "  \n",
        "4. p Value <br>\n",
        "  \n",
        "5. Decision <br>\n",
        "   Reject H0 since p &lt; α or Fail to reject H0 since p &gt; α  <br>\n",
        "6. Conclusion\n",
        "\n",
        "\n",
        "# Hypothesis testing - Difference between two sample means\n",
        "Suppose we are interested in testing if the mean water temperature from year 2016 is statisticlly different from the mean water temperature from the same period a year later.\n",
        "In this case, there are two populations: one is the water temperature in 2016 and the other is the water temperature in 2017. We collected <b>two samples</b>: one from each population. An unpaired two sample t test would be the technique to use.  "
      ]
    },
    {
      "cell_type": "code",
      "metadata": {
        "id": "1zWgF_TKssd6"
      },
      "source": [
        "t16=df1[\"Water Temperature (F)\"]\n",
        "t17=df2[\"Water Temperature (F)\"]"
      ],
      "execution_count": null,
      "outputs": []
    },
    {
      "cell_type": "markdown",
      "metadata": {
        "id": "UkVGoLFNfOOL"
      },
      "source": [
        "# Independent variable\n",
        "The independent variable in this experiment is group with two levels (a discrete variable). <br>\n",
        "The dependent varibale is water temperature, a continuous variable."
      ]
    },
    {
      "cell_type": "markdown",
      "metadata": {
        "id": "qB8qiuAOZq0l"
      },
      "source": [
        "# Hypotheses\n",
        "H0: Two group means are equal <br>\n",
        "Ha: Two group means are different <br>\n",
        "or <br>\n",
        "H0: $\\mu_{16}$$=$$\\mu_{17}$ <br>\n",
        "Ha: $\\mu_{16}$$\\neq$$\\mu_{17}$ <br>"
      ]
    },
    {
      "cell_type": "markdown",
      "metadata": {
        "id": "MkLalkZbfB10"
      },
      "source": [
        "# Model Assumptions\n"
      ]
    },
    {
      "cell_type": "markdown",
      "metadata": {
        "id": "_aPt6vS5fMqL"
      },
      "source": [
        "* Assumption 1: Are the two samples independent? <br>\n",
        "* Assumption 2: Are the data from each of the 2 groups following a normal distribution? <br>\n",
        "* Assumption 3: Do the two samples have the same variances (Homogeneity of Variance)?"
      ]
    },
    {
      "cell_type": "markdown",
      "metadata": {
        "id": "aHvdhLAp8JwS"
      },
      "source": [
        "# Checking the Normality of Data\n",
        "There are several methods to check whether the data is normally distributed. <br>\n",
        "scipy.stats.shapiro(x) function is one such funciton to perform the Shapiro-Wilk test for normality. The test statistic for Shapiro-Wilk test is W. If the p value associated with the test statistic is less than alpha, we conclude that the data does not follow a normal distribution. Othervise, the normality assumption is met.\n",
        "<br>In this example, we will use the Shapiro-Wilks test. Here’s how to examine if the data follow the normal distribution in Python. The first value is the test statistic W, and the second value is the p value associated with the shapiro-Wilk test.<br>\n",
        "<br>\n",
        "scipy.stats.shapiro(x)<br>\n",
        "Perform the Shapiro-Wilk test for normality.\n",
        "<br>\n",
        "The Shapiro-Wilk test tests the null hypothesis that the data was drawn from a normal distribution.\n",
        "More information about stats.shapiro(x) can be found at:\n",
        "https://docs.scipy.org/doc/scipy/reference/generated/scipy.stats.shapiro.html"
      ]
    },
    {
      "cell_type": "code",
      "metadata": {
        "id": "D5TXXDg58Wwn",
        "colab": {
          "base_uri": "https://localhost:8080/"
        },
        "outputId": "9d95670f-e5ed-4325-c44c-1fd6c55f8947"
      },
      "source": [
        "stats.shapiro(t16)"
      ],
      "execution_count": null,
      "outputs": [
        {
          "output_type": "execute_result",
          "data": {
            "text/plain": [
              "(0.8105882406234741, 0.0)"
            ]
          },
          "metadata": {},
          "execution_count": 64
        }
      ]
    },
    {
      "cell_type": "markdown",
      "source": [
        "The test statistic for shapiro-Wilk test is W=0.8106, p<0.05"
      ],
      "metadata": {
        "id": "YTvmClY8sW99"
      }
    },
    {
      "cell_type": "markdown",
      "metadata": {
        "id": "fVd2FKW9WyTQ"
      },
      "source": [
        "Given that the p value (the second number in the result) is less than 0.05, we can conclude that the data is not normally distributed. This is consistent with what we have observed from the plots."
      ]
    },
    {
      "cell_type": "code",
      "metadata": {
        "colab": {
          "base_uri": "https://localhost:8080/"
        },
        "id": "v3vErKQQJY8T",
        "outputId": "965d9d99-1af7-41bc-c823-4a397f397733"
      },
      "source": [
        "stats.shapiro(t17)"
      ],
      "execution_count": null,
      "outputs": [
        {
          "output_type": "execute_result",
          "data": {
            "text/plain": [
              "(0.9602615833282471, 6.633066206292285e-19)"
            ]
          },
          "metadata": {},
          "execution_count": 67
        }
      ]
    },
    {
      "cell_type": "markdown",
      "metadata": {
        "id": "ODMqFPlRXIb1"
      },
      "source": [
        "Given that the p value (the second number in the result) is less than 0.05, we can conclude that the data is not normally distributed."
      ]
    },
    {
      "cell_type": "markdown",
      "metadata": {
        "id": "PcoPXi1qQ6VW"
      },
      "source": [
        "# Checking the Homogeneity of Variances Assumption\n",
        "Remember, before carrying out a t-test in Python, we also need to make sure that the variances in the two groups are equal. Here we’ll use Levene’s test to test for homogeneity of variances (equal variances) and this can be performed with the function levene as follow:<br>\n",
        "scipy.stats.levene(*samples, center='median', proportiontocut=0.05)<br>\n",
        "Perform Levene test for equal variances.\n",
        "<br><br>\n",
        "The Levene test tests the null hypothesis that all input samples are from populations with equal variances. Levene’s test is an alternative to Bartlett’s test bartlett in the case where there are significant deviations from normality.<br><br>\n",
        "\n",
        "More information about stats.levene() can be found at: https://docs.scipy.org/doc/scipy/reference/generated/scipy.stats.levene.html"
      ]
    },
    {
      "cell_type": "code",
      "metadata": {
        "colab": {
          "base_uri": "https://localhost:8080/"
        },
        "id": "wOzz0q2NKk66",
        "outputId": "1e5318ae-ce40-4152-9549-7d8dd9e7049a"
      },
      "source": [
        "stats.levene(t16,t17)"
      ],
      "execution_count": null,
      "outputs": [
        {
          "output_type": "execute_result",
          "data": {
            "text/plain": [
              "LeveneResult(statistic=1010.9721187854994, pvalue=6.71676967090452e-202)"
            ]
          },
          "metadata": {},
          "execution_count": 68
        }
      ]
    },
    {
      "cell_type": "markdown",
      "metadata": {
        "id": "Q0DrG9XZXQGt"
      },
      "source": [
        "The levene's test statistic W=1010.97, p<0.05 <BR>\n",
        "Because the p value is less than 0.05, the homogeneity of variances assumption is not met."
      ]
    },
    {
      "cell_type": "markdown",
      "metadata": {
        "id": "IpZGwxfKzP8l"
      },
      "source": [
        "## Two Sample T Test\n",
        "If the model assumptions are met, a two sample t test could be performed. In python, scipy.stats.ttest_ind(a, b, equal_var=True,  alternative='two-sided', ...) can be used to perform two sample t test. <br>\n",
        "By default, this is a two-sided test for the null hypothesis that 2 independent samples have identical average (expected) values. This test assumes that the populations have identical variances by default.<br>\n",
        "\n",
        "More information can be found:\n",
        "https://docs.scipy.org/doc/scipy/reference/generated/scipy.stats.ttest_ind.html\n",
        "\n"
      ]
    },
    {
      "cell_type": "code",
      "metadata": {
        "id": "NSc4PNbW0ijJ",
        "outputId": "9a182a54-9f7b-420b-ef77-fe894f6e6e8a",
        "colab": {
          "base_uri": "https://localhost:8080/"
        }
      },
      "source": [
        "stats.ttest_ind(t16,t17)"
      ],
      "execution_count": null,
      "outputs": [
        {
          "output_type": "execute_result",
          "data": {
            "text/plain": [
              "Ttest_indResult(statistic=3.4032346650695273, pvalue=0.0006712601138063886)"
            ]
          },
          "metadata": {},
          "execution_count": 9
        }
      ]
    },
    {
      "cell_type": "markdown",
      "metadata": {
        "id": "2k-pzbE28zTh"
      },
      "source": [
        "Since the assumptions are violated in this case, t test is not an appropriate approach. Instead, we will use a nonparametric test, Mann-Whitney U Test.\n",
        "\n"
      ]
    },
    {
      "cell_type": "markdown",
      "metadata": {
        "id": "N-Ysc1rLUEE5"
      },
      "source": [
        "## Mann-Whitney U Test\n",
        "\n",
        "scipy.statis.mannwhitneyu() function can be used to perform the Mann-Whitney U rank test on two independent samples.\n",
        "\n",
        "The Mann-Whitney U test is a nonparametric test of the null hypothesis that the distribution underlying sample x is the same as the distribution underlying sample y. It is often used as a test of of difference in location between distributions. <br>\n",
        "\n",
        "scipy.stats.mannwhitneyu(x, y, use_continuity=True, alternative='two-sided', axis=0, method='auto', *, nan_policy='propagate', keepdims=False)<br>\n",
        "Perform the Mann-Whitney U rank test on two independent samples.\n",
        "<br><br>\n",
        "The Mann-Whitney U test is a nonparametric test of the null hypothesis that the distribution underlying sample x is the same as the distribution underlying sample y. It is often used as a test of difference in location between distributions.\n",
        "<br><br>\n",
        "Note: %3.f will disply data in three digits after the decimal."
      ]
    },
    {
      "cell_type": "code",
      "metadata": {
        "id": "HlTnAR2PUIJf",
        "colab": {
          "base_uri": "https://localhost:8080/"
        },
        "outputId": "ca4a20a3-5911-4e94-977f-fcca2e709c11"
      },
      "source": [
        "stat, p = stats.mannwhitneyu(t16, t17)\n",
        "print('Statistics=%.3f, p=%.3f '% (stat, p))"
      ],
      "execution_count": null,
      "outputs": [
        {
          "output_type": "stream",
          "text": [
            "Statistics=2192277.000, p=0.000\n"
          ],
          "name": "stdout"
        }
      ]
    },
    {
      "cell_type": "markdown",
      "source": [
        "The test statistic U=2192277, p<0.05<br>"
      ],
      "metadata": {
        "id": "XngfSbofwSFg"
      }
    },
    {
      "cell_type": "markdown",
      "source": [
        "The following is the standard 6-step hypothesis testing for this problem."
      ],
      "metadata": {
        "id": "hEiuXYPA78lU"
      }
    },
    {
      "cell_type": "code",
      "source": [],
      "metadata": {
        "id": "ok40ol_dwYdJ"
      },
      "execution_count": null,
      "outputs": []
    },
    {
      "cell_type": "markdown",
      "metadata": {
        "id": "BkBjQmFzS5_E"
      },
      "source": [
        "# 6-Step Hypothesis Testing\n",
        "1. H0: $\\mu_{16}$$=$$\\mu_{17}$<br>\n",
        "   Ha: $\\mu_{16}$$\\neq$$\\mu_{17}$<br>\n",
        "2. $\\alpha$$=$0.05<br>\n",
        "3. Test Statistic <br>\n",
        "  U=2192277.00<br>\n",
        "4. p Value<br>\n",
        "  p=0.000<br>\n",
        "5. Decision<br>\n",
        "  Reject H0 since p &lt; 0.05 <br>\n",
        "6. Conclusion <br>\n",
        "  At 0.05 level of significance, there is sufficient evidence to conclude that the mean water temperature in 2016 is different from the mean temperature in 2017."
      ]
    }
  ]
}