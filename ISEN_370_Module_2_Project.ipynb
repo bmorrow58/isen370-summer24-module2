{
  "nbformat": 4,
  "nbformat_minor": 0,
  "metadata": {
    "colab": {
      "name": "ISEN 370 Module 2 Project.ipynb",
      "provenance": [],
      "include_colab_link": true
    },
    "kernelspec": {
      "name": "python3",
      "display_name": "Python 3"
    },
    "language_info": {
      "name": "python"
    }
  },
  "cells": [
    {
      "cell_type": "markdown",
      "metadata": {
        "id": "view-in-github",
        "colab_type": "text"
      },
      "source": [
        "<a href=\"https://colab.research.google.com/github/StevenXJiang/DataScienceModule2/blob/main/ISEN_370_Module_2_Project.ipynb\" target=\"_parent\"><img src=\"https://colab.research.google.com/assets/colab-badge.svg\" alt=\"Open In Colab\"/></a>"
      ]
    },
    {
      "cell_type": "markdown",
      "metadata": {
        "id": "ORIRg6IK6lqT"
      },
      "source": [
        "# ISEN 370 Project 2 Assignment\n",
        "In this assignment, you will use data science tools to exlore two datasets, calculate confidence intervals and conduct a hypothesis testing on the given datasets.\n",
        "You can use ISEN 370 Project 2 Demo file as a reference when completing this assignment.\n"
      ]
    },
    {
      "cell_type": "markdown",
      "metadata": {
        "id": "_yN-yrSITXXO"
      },
      "source": [
        "First, you will need to import required libraries to the project: numpy, pandas, matplotlib, SciPy. For your convenience, the first line has been provided below. Add three more lines to complete importing the libraries."
      ]
    },
    {
      "cell_type": "code",
      "metadata": {
        "id": "4y1CM1g7kkbB"
      },
      "source": [
        "import numpy as np\n"
      ],
      "execution_count": null,
      "outputs": []
    },
    {
      "cell_type": "code",
      "metadata": {
        "id": "XOO97bEbmJEr"
      },
      "source": [],
      "execution_count": null,
      "outputs": []
    },
    {
      "cell_type": "code",
      "metadata": {
        "id": "H-LaAAjXmJGM"
      },
      "source": [],
      "execution_count": null,
      "outputs": []
    },
    {
      "cell_type": "code",
      "metadata": {
        "id": "FrrTUyqWmJfW"
      },
      "source": [],
      "execution_count": null,
      "outputs": []
    },
    {
      "cell_type": "markdown",
      "metadata": {
        "id": "3qsXYkC_6_r-"
      },
      "source": [
        "## Data Import\n",
        "\n",
        "The Learning Enhanced Watershed Assessment System (LEWAS) is a unique real-time water and weather monitoring system. The LEWAS monitoring site is installed at the outfall of the Webb Branch watershed on Virginia Tech’s campus. Webb Branch is an urban stream with a 2.78 square kilometer (about one square mile) watershed consisting of residential and commercial properties. The stream is routed through man-made channels and culverts until it discharges at the LEWAS monitoring site. We first import the LEWAS datasets and print the first 10 rows of data. The data is stored in CSV files for which the path is given in the cell below. There are two CSV files, the first contains data from 9/01/17-9/30/17 and the second contains data from 10/01/17-10/31/17.\n",
        "The following codes provide the link to where the data are stored."
      ]
    },
    {
      "cell_type": "code",
      "metadata": {
        "id": "oWmt7-Ye7RY8"
      },
      "source": [
        "data_url3='https://github.com/StevenXJiang/DataScienceModule2/raw/main/LEWAS_Storm_Data_Demo_3.csv'\n",
        "data_url4='https://github.com/StevenXJiang/DataScienceModule2/raw/main/LEWAS_Storm_Data_Demo_4.csv'\n"
      ],
      "execution_count": null,
      "outputs": []
    },
    {
      "cell_type": "markdown",
      "metadata": {
        "id": "PM69GHhR67pA"
      },
      "source": [
        "## Exploring Data"
      ]
    },
    {
      "cell_type": "markdown",
      "metadata": {
        "id": "xXX6QS98UBQo"
      },
      "source": [
        "* Provide two lines of code below to create a dataframe named df3 that reads data using data_url3 (data from 9/1/17-9/30/17). <br>\n",
        "* Use pd.read_csv() function to read the csv data. <br>\n",
        "* Display the first 10 rows of data using head()."
      ]
    },
    {
      "cell_type": "code",
      "metadata": {
        "id": "zdwkCZlR_ssb"
      },
      "source": [],
      "execution_count": null,
      "outputs": []
    },
    {
      "cell_type": "code",
      "metadata": {
        "id": "8GyFarF_ngY4"
      },
      "source": [],
      "execution_count": null,
      "outputs": []
    },
    {
      "cell_type": "markdown",
      "metadata": {
        "id": "10krY0x-k8Nq"
      },
      "source": [
        "* Provide two lines of code below to create a dataframe named df4 that reads data using data_url4 (data from 10/1/17-10/31/17).\n",
        "* Use pd.read_csv() function to read the csv data.\n",
        "* Display the first 10 rows of data using head()."
      ]
    },
    {
      "cell_type": "code",
      "metadata": {
        "id": "TQj5WiImVM3Z"
      },
      "source": [],
      "execution_count": null,
      "outputs": []
    },
    {
      "cell_type": "code",
      "metadata": {
        "id": "32iB013DnhSa"
      },
      "source": [],
      "execution_count": null,
      "outputs": []
    },
    {
      "cell_type": "markdown",
      "metadata": {
        "id": "RklW1Ll47aoQ"
      },
      "source": [
        "## Exploring Data\n",
        "We can use a scatter plot to explore <b> the estimated flow rate data </b>. <br>\n",
        "Generate **two** scatter plots: one for the estimated flow rate data in September 2017 and the other for the estimated flow rate data in October 2017. Make sure to provide the title, x axis label and y axis label for your scatter plots."
      ]
    },
    {
      "cell_type": "markdown",
      "metadata": {
        "id": "maAkHf4WI7K6"
      },
      "source": [
        "## Scatter Plot 1"
      ]
    },
    {
      "cell_type": "code",
      "metadata": {
        "id": "XJYaSUJ7HC-4"
      },
      "source": [],
      "execution_count": null,
      "outputs": []
    },
    {
      "cell_type": "code",
      "metadata": {
        "id": "4gQVIX-wnpOH"
      },
      "source": [],
      "execution_count": null,
      "outputs": []
    },
    {
      "cell_type": "code",
      "metadata": {
        "id": "h1F9lLgpnpYk"
      },
      "source": [],
      "execution_count": null,
      "outputs": []
    },
    {
      "cell_type": "code",
      "metadata": {
        "id": "b92Vhx-Qnpho"
      },
      "source": [],
      "execution_count": null,
      "outputs": []
    },
    {
      "cell_type": "code",
      "metadata": {
        "id": "IGvDF0-lnpr_"
      },
      "source": [],
      "execution_count": null,
      "outputs": []
    },
    {
      "cell_type": "code",
      "metadata": {
        "id": "_v8sIZM7np15"
      },
      "source": [],
      "execution_count": null,
      "outputs": []
    },
    {
      "cell_type": "markdown",
      "metadata": {
        "id": "L6SSm5L5bpHu"
      },
      "source": [
        "Comment on the trend of Est. Flow Rate[m^3/s] for September 2017. \n",
        "<br> \n",
        "Answer: (Double click here to add your comments)\n",
        "<BR>"
      ]
    },
    {
      "cell_type": "markdown",
      "metadata": {
        "id": "BN5p9gb8I-d-"
      },
      "source": [
        "## Scatter Plot 2"
      ]
    },
    {
      "cell_type": "code",
      "metadata": {
        "id": "TjslWzhYJCEA"
      },
      "source": [],
      "execution_count": null,
      "outputs": []
    },
    {
      "cell_type": "code",
      "metadata": {
        "id": "GJIduFH9nq0C"
      },
      "source": [],
      "execution_count": null,
      "outputs": []
    },
    {
      "cell_type": "code",
      "metadata": {
        "id": "pI8HHrPEnq8U"
      },
      "source": [],
      "execution_count": null,
      "outputs": []
    },
    {
      "cell_type": "code",
      "metadata": {
        "id": "4KDudTyBnrId"
      },
      "source": [],
      "execution_count": null,
      "outputs": []
    },
    {
      "cell_type": "code",
      "metadata": {
        "id": "ahJ0T57jnrRw"
      },
      "source": [],
      "execution_count": null,
      "outputs": []
    },
    {
      "cell_type": "markdown",
      "source": [],
      "metadata": {
        "id": "Fx_1mWwK2vHe"
      }
    },
    {
      "cell_type": "code",
      "metadata": {
        "id": "IR-ALsqnnraM"
      },
      "source": [],
      "execution_count": null,
      "outputs": []
    },
    {
      "cell_type": "markdown",
      "metadata": {
        "id": "zRlTAezefKRW"
      },
      "source": [
        "Comment on the trend of Est. Flow Rate[m^3/s] for October 2017. \n",
        "<br> \n",
        "**Answer:** \n",
        "<BR>\n"
      ]
    },
    {
      "cell_type": "markdown",
      "metadata": {
        "id": "FYtX2MFenzZo"
      },
      "source": []
    },
    {
      "cell_type": "markdown",
      "metadata": {
        "id": "aHvdhLAp8JwS"
      },
      "source": [
        "## Histogram Plotting\n",
        "Plot a histogram for Est. Flow Rate  data of September 2017. Be sure to include proper titles and axis labels on each of your plots."
      ]
    },
    {
      "cell_type": "code",
      "metadata": {
        "id": "D5TXXDg58Wwn"
      },
      "source": [],
      "execution_count": null,
      "outputs": []
    },
    {
      "cell_type": "code",
      "metadata": {
        "id": "Z-8PwK-8n7XK"
      },
      "source": [],
      "execution_count": null,
      "outputs": []
    },
    {
      "cell_type": "markdown",
      "metadata": {
        "id": "MtRaVz5BJdMv"
      },
      "source": [
        "Plot a histogram for Est. Flow Rate data of October 2017. Be sure to include proper titles and axis labels on each of your plots."
      ]
    },
    {
      "cell_type": "code",
      "metadata": {
        "id": "FH7ov5cHJhPI"
      },
      "source": [],
      "execution_count": null,
      "outputs": []
    },
    {
      "cell_type": "code",
      "metadata": {
        "id": "Db92da6bn8a6"
      },
      "source": [],
      "execution_count": null,
      "outputs": []
    },
    {
      "cell_type": "markdown",
      "metadata": {
        "id": "-rAHneBDoEA-"
      },
      "source": [
        "***Comment on the shape of both distributions.***\n",
        "<br>\n",
        "***Answer:***\n",
        "<br> (double click here to enter your comments)\n",
        "<br>"
      ]
    },
    {
      "cell_type": "markdown",
      "metadata": {
        "id": "et2TPHnI8Xmx"
      },
      "source": [
        "# Boxplot\n",
        "\n",
        "Generate a boxplot for Est. Flow Rate data of September 2017."
      ]
    },
    {
      "cell_type": "code",
      "metadata": {
        "id": "m72msMm7J7yt"
      },
      "source": [],
      "execution_count": null,
      "outputs": []
    },
    {
      "cell_type": "markdown",
      "metadata": {
        "id": "2k-pzbE28zTh"
      },
      "source": [
        "Generate a boxplot for Est. Flow Rate data of October 2017.\n",
        "\n"
      ]
    },
    {
      "cell_type": "code",
      "metadata": {
        "id": "CTsEzQdcKAu-"
      },
      "source": [],
      "execution_count": null,
      "outputs": []
    },
    {
      "cell_type": "markdown",
      "metadata": {
        "id": "KInJRKw6oLWL"
      },
      "source": [
        "***Comment on both boxplots***\n",
        "<br>\n",
        "***Answer:*** <br>"
      ]
    },
    {
      "cell_type": "markdown",
      "metadata": {
        "id": "jJ7C5UXCoNv2"
      },
      "source": []
    },
    {
      "cell_type": "markdown",
      "metadata": {
        "id": "kjwqEX7-9hBZ"
      },
      "source": [
        "\n",
        "#Confidence Interval\n",
        "\n",
        "We can construct confidence interval based on the sample data collected. From the histogram and the bloxplot, we have already estabished that the data is not normally distributed. However, give the large sample size, using the central limit theorem, we know the sampling distribution of the mean will follow a normal distribution. The following code will generate the 95% confidence interval for the mean estimated flow rate of Septemebr 2017.\n"
      ]
    },
    {
      "cell_type": "code",
      "metadata": {
        "id": "uVJHNf3w90Aa"
      },
      "source": [
        "\n"
      ],
      "execution_count": null,
      "outputs": []
    },
    {
      "cell_type": "markdown",
      "metadata": {
        "id": "66-gYL6P943-"
      },
      "source": [
        "Interpret the confidence interval you generated.<br>\n",
        "***Answer:***"
      ]
    },
    {
      "cell_type": "markdown",
      "metadata": {
        "id": "6LLFCZy6-Ss2"
      },
      "source": []
    },
    {
      "cell_type": "markdown",
      "metadata": {
        "id": "21mdTAOrWH0s"
      },
      "source": [
        "# Hypothesis testing\n",
        "Suppose we are interested in testing if the mean estimated flow rate from September 2017 is statisticlly different from the mean estimated flow rate from October 2017. "
      ]
    },
    {
      "cell_type": "markdown",
      "metadata": {
        "id": "JKDtO50yKZEs"
      },
      "source": [
        "***Question***<br>\n",
        "How many samples are there in this experiment? What are they?<br>\n",
        "***Answer***\n"
      ]
    },
    {
      "cell_type": "markdown",
      "metadata": {
        "id": "zrvr9pESKuuJ"
      },
      "source": []
    },
    {
      "cell_type": "markdown",
      "metadata": {
        "id": "YWeZ8fyXWl1A"
      },
      "source": [
        "Create two dataframe named r9 and r10 each reprenting the Est. Flow Rate data from September and October 2017."
      ]
    },
    {
      "cell_type": "code",
      "metadata": {
        "id": "Rm-7fxIaLJRK"
      },
      "source": [],
      "execution_count": null,
      "outputs": []
    },
    {
      "cell_type": "code",
      "metadata": {
        "id": "LNkA5DDiLKxc"
      },
      "source": [],
      "execution_count": null,
      "outputs": []
    },
    {
      "cell_type": "markdown",
      "metadata": {
        "id": "JpeaDu-ELL8D"
      },
      "source": [
        "# Independent Variable and Dependent Variable"
      ]
    },
    {
      "cell_type": "markdown",
      "metadata": {
        "id": "SHMYbJceLYkC"
      },
      "source": [
        "***Question***<br>\n",
        "What is the independent variable and what is the dependent variable of this experiment?"
      ]
    },
    {
      "cell_type": "markdown",
      "metadata": {
        "id": "tpYMC11sLhM7"
      },
      "source": [
        "***Answer***"
      ]
    },
    {
      "cell_type": "markdown",
      "metadata": {
        "id": "Sv1axeNbR-AS"
      },
      "source": []
    },
    {
      "cell_type": "markdown",
      "metadata": {
        "id": "87-nDTJpOQqM"
      },
      "source": [
        "***Question***<br>\n",
        "What are the assumptions for the two sample t test?"
      ]
    },
    {
      "cell_type": "markdown",
      "metadata": {
        "id": "h_ic0amVOW4m"
      },
      "source": [
        "***Answer***"
      ]
    },
    {
      "cell_type": "markdown",
      "metadata": {
        "id": "uSxLSiIgpCNd"
      },
      "source": []
    },
    {
      "cell_type": "markdown",
      "metadata": {
        "id": "LW5myUIGpB4g"
      },
      "source": []
    },
    {
      "cell_type": "markdown",
      "metadata": {
        "id": "trkUheGrOZC9"
      },
      "source": []
    },
    {
      "cell_type": "markdown",
      "metadata": {
        "id": "xUAxn6ruLjkO"
      },
      "source": [
        "#Model Assumption Check\n",
        "##Checking the Normality of Data\n",
        "Use the Shapiro-Wilks test to check whether the September data is normally distributed. "
      ]
    },
    {
      "cell_type": "code",
      "metadata": {
        "id": "7uBsvrrwL7lz"
      },
      "source": [],
      "execution_count": null,
      "outputs": []
    },
    {
      "cell_type": "markdown",
      "metadata": {
        "id": "8ffEYhuAL9IX"
      },
      "source": [
        "Based on the shapiro-Wilks test, what can you conclude?"
      ]
    },
    {
      "cell_type": "markdown",
      "metadata": {
        "id": "Vh1-IasmMEzI"
      },
      "source": []
    },
    {
      "cell_type": "markdown",
      "metadata": {
        "id": "iN5p9YqqMLsK"
      },
      "source": [
        "Use the Shapiro-Wilks test to check whether the October data is normally distributed. "
      ]
    },
    {
      "cell_type": "code",
      "metadata": {
        "id": "JFHI8RN6MQQj"
      },
      "source": [],
      "execution_count": null,
      "outputs": []
    },
    {
      "cell_type": "markdown",
      "metadata": {
        "id": "-SKUoPokMU18"
      },
      "source": [
        "Based on the shapiro-Wilks test, what can you conclude?"
      ]
    },
    {
      "cell_type": "markdown",
      "metadata": {
        "id": "Y8lylg6KMQko"
      },
      "source": []
    },
    {
      "cell_type": "markdown",
      "metadata": {
        "id": "yfLKlyoQMc_s"
      },
      "source": [
        "##Checking the Homogeneity of Variances Assumption\n",
        "Use Levene’s test to test for homogeneity of variances (equal variances):"
      ]
    },
    {
      "cell_type": "code",
      "metadata": {
        "id": "p7YpvC3VMllk"
      },
      "source": [],
      "execution_count": null,
      "outputs": []
    },
    {
      "cell_type": "markdown",
      "metadata": {
        "id": "gteUEoW8Mncl"
      },
      "source": [
        "Based on Leven's test, what can you conclude?"
      ]
    },
    {
      "cell_type": "markdown",
      "metadata": {
        "id": "RWytXadJMrw7"
      },
      "source": []
    },
    {
      "cell_type": "markdown",
      "metadata": {
        "id": "ucrjLPqZNrTG"
      },
      "source": [
        "Based on the above tests, what can you conclude about the model assumptions?\n",
        "<br>\n",
        "**Answer:**"
      ]
    },
    {
      "cell_type": "markdown",
      "metadata": {
        "id": "pOuyD9b_Nz_R"
      },
      "source": []
    },
    {
      "cell_type": "markdown",
      "metadata": {
        "id": "RTwPBmLIMx8j"
      },
      "source": [
        "# NonParametric t test (Mann-Whitney U Test)\n",
        "If the assumptions are violated, the nonparametric t test, Mann-Whitney U test can be used.\n"
      ]
    },
    {
      "cell_type": "code",
      "metadata": {
        "id": "KpqobmTopbGu"
      },
      "source": [],
      "execution_count": null,
      "outputs": []
    },
    {
      "cell_type": "code",
      "metadata": {
        "id": "jbpqx79eM1Ch"
      },
      "source": [],
      "execution_count": null,
      "outputs": []
    },
    {
      "cell_type": "markdown",
      "metadata": {
        "id": "D6TV10E3N_7r"
      },
      "source": [
        "# 6-Step Hypothesis Testing"
      ]
    },
    {
      "cell_type": "markdown",
      "metadata": {
        "id": "hg3Hfk7gOE3Q"
      },
      "source": [
        "1. "
      ]
    },
    {
      "cell_type": "markdown",
      "metadata": {
        "id": "S9dxkCiiOGxq"
      },
      "source": [
        "2."
      ]
    },
    {
      "cell_type": "markdown",
      "metadata": {
        "id": "hgbABRZTOHvk"
      },
      "source": [
        "3."
      ]
    },
    {
      "cell_type": "markdown",
      "metadata": {
        "id": "M7wj9bdgOIfN"
      },
      "source": [
        "4."
      ]
    },
    {
      "cell_type": "markdown",
      "metadata": {
        "id": "OwGeV-MsOJGX"
      },
      "source": [
        "5."
      ]
    },
    {
      "cell_type": "markdown",
      "metadata": {
        "id": "Yg4ErcNWOJv8"
      },
      "source": [
        "6."
      ]
    },
    {
      "cell_type": "markdown",
      "source": [
        "In the spalce below, type your experience with your colab project experience. What you like, what you dislike and what you would like to experience in the future colab projects.\n"
      ],
      "metadata": {
        "id": "owIijH7m4VEx"
      }
    },
    {
      "cell_type": "markdown",
      "source": [],
      "metadata": {
        "id": "g3KuAU4P4f6g"
      }
    }
  ]
}